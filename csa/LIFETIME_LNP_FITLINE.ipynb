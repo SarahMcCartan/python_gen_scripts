{
 "cells": [
  {
   "cell_type": "markdown",
   "metadata": {},
   "source": [
    "Normalized Histogram Plots\n"
   ]
  },
  {
   "cell_type": "code",
   "execution_count": 1,
   "metadata": {
    "collapsed": true
   },
   "outputs": [],
   "source": [
    "#import relevant libraries for plotting\n",
    "import numpy as np\n",
    "import matplotlib.mlab as mlab\n",
    "import matplotlib.pyplot as plt\n",
    "from scipy.integrate import simps\n",
    "from numpy import trapz\n",
    "import matplotlib.ticker as ticker\n",
    "from matplotlib.ticker import MultipleLocator, FormatStrFormatter\n",
    "from matplotlib.backends.backend_pdf import PdfPages\n"
   ]
  },
  {
   "cell_type": "code",
   "execution_count": 2,
   "metadata": {
    "collapsed": true
   },
   "outputs": [],
   "source": [
    "import matplotlib.font_manager as fnt\n"
   ]
  },
  {
   "cell_type": "code",
   "execution_count": 3,
   "metadata": {
    "collapsed": true
   },
   "outputs": [],
   "source": [
    "%matplotlib inline"
   ]
  },
  {
   "cell_type": "code",
   "execution_count": 4,
   "metadata": {},
   "outputs": [],
   "source": [
    "f_1=np.loadtxt(\"310_csa_Life_T_S1_10.txt\") \n",
    "f_2=np.loadtxt(\"310_csa_Life_T_S2_10.txt\") \n",
    "f_3=np.loadtxt(\"310_csa_Life_T_S3_10.txt\") \n",
    "#f_4=np.loadtxt(\"csa_450_lifetimes_s4.txt\") \n"
   ]
  },
  {
   "cell_type": "code",
   "execution_count": 5,
   "metadata": {
    "collapsed": true
   },
   "outputs": [],
   "source": [
    "s1 = f_1[:,1] # read in  data\n",
    "s2 = f_2[:,1] \n",
    "s3 = f_3[:,1] \n",
    "#s4 = f_4[:,1] \n"
   ]
  },
  {
   "cell_type": "code",
   "execution_count": 6,
   "metadata": {},
   "outputs": [
    {
     "name": "stdout",
     "output_type": "stream",
     "text": [
      "std 15.6387655413 12.6491106407 5.81988777813\n",
      "mean 13.3888888889 27.0 7.5625\n"
     ]
    }
   ],
   "source": [
    "sigma = np.std(s1) # standard deviation of distribution\n",
    "sigma2 = np.std(s2) # standard deviation of distribution\n",
    "sigma3= np.std(s3) # standard deviation of distribution\n",
    "#sigma4 = np.std(s4) # standard deviation of distribution\n",
    "\n",
    "mu = np.mean(s1) # mean of distribution\n",
    "mu2 = np.mean(s2) # mean of distribution\n",
    "mu3 = np.mean(s3) # mean of distribution\n",
    "#mu4 = np.mean(s4) \n",
    "\n",
    "print( \"std\",sigma, sigma2, sigma3)\n",
    "print(\"mean\", mu, mu2, mu3)\n",
    "#print( \"state4\", mu4, sigma4)"
   ]
  },
  {
   "cell_type": "code",
   "execution_count": 7,
   "metadata": {},
   "outputs": [
    {
     "data": {
      "text/plain": [
       "<matplotlib.legend.Legend at 0x1e34959ef60>"
      ]
     },
     "execution_count": 7,
     "metadata": {},
     "output_type": "execute_result"
    },
    {
     "data": {
      "image/png": "[encoded data removed]",
      "text/plain": [
       "<matplotlib.figure.Figure at 0x1e34959ef98>"
      ]
     },
     "metadata": {},
     "output_type": "display_data"
    }
   ],
   "source": [
    "num_bins1 = 4\n",
    "num_bins2 = 3\n",
    "num_bins3 = 6\n",
    "num_bins4 = 4\n",
    "# the histogram of the data\n",
    "#normed = True, n is the counts normalized to form a probability density - n/len(x) dbin i.e. integral of hist will be 1\n",
    "\n",
    "n1, bins, patches    = plt.hist(s1, bins = num_bins1, normed = True, facecolor= 'blue', alpha=0.5, histtype=\"bar\")\n",
    "n2, bins2, patches2  = plt.hist(s2, bins = num_bins2, normed = True, facecolor= 'red', alpha=0.5, histtype = \"bar\")\n",
    "n3, bins3,  patches3 = plt.hist(s3, bins = num_bins3, normed = True, facecolor = 'green',  alpha = 0.5, histtype = \"bar\")\n",
    "#n4, bins4,  patches4 = plt.hist(s4, bins = num_bins4, normed = True, facecolor = 'orange', alpha = 0.5, histtype = \"bar\")\n",
    "\n",
    "plt.legend([\"S1\", \"S2\", \"S3\"])"
   ]
  },
  {
   "cell_type": "code",
   "execution_count": 8,
   "metadata": {
    "collapsed": true
   },
   "outputs": [],
   "source": [
    "index = [0]\n",
    "\n",
    "b1 = np.delete(bins, index)\n",
    "b2 = np.delete(bins2, index)\n",
    "b3 = np.delete(bins3, index)\n",
    "#b4 = np.delete(bins4, index)"
   ]
  },
  {
   "cell_type": "code",
   "execution_count": 9,
   "metadata": {},
   "outputs": [],
   "source": [
    "lnP1 = np.log(n1)\n"
   ]
  },
  {
   "cell_type": "code",
   "execution_count": 10,
   "metadata": {},
   "outputs": [],
   "source": [
    "lnP2 = np.log(n2)"
   ]
  },
  {
   "cell_type": "code",
   "execution_count": 11,
   "metadata": {
    "collapsed": true
   },
   "outputs": [],
   "source": [
    "lnP3 = np.log(n3)"
   ]
  },
  {
   "cell_type": "code",
   "execution_count": 12,
   "metadata": {
    "collapsed": true
   },
   "outputs": [],
   "source": [
    "#lnP4 = np.log(n4)"
   ]
  },
  {
   "cell_type": "code",
   "execution_count": 13,
   "metadata": {
    "scrolled": false
   },
   "outputs": [
    {
     "data": {
      "image/png": "[encoded data removed]",
      "text/plain": [
       "<matplotlib.figure.Figure at 0x1e34959ed68>"
      ]
     },
     "metadata": {},
     "output_type": "display_data"
    },
    {
     "data": {
      "image/png": "[encoded data removed]",
      "text/plain": [
       "<matplotlib.figure.Figure at 0x1e34ceac278>"
      ]
     },
     "metadata": {},
     "output_type": "display_data"
    },
    {
     "data": {
      "image/png": "[encoded data removed]",
      "text/plain": [
       "<matplotlib.figure.Figure at 0x1e34cf15c88>"
      ]
     },
     "metadata": {},
     "output_type": "display_data"
    }
   ],
   "source": [
    "fig, ax = plt.subplots()\n",
    "\n",
    "fig1 = plt.figure(1)\n",
    "\n",
    "# the histogram of the data\n",
    "#normed = True, n is the counts normalized to form a probability density - n/len(x) dbin i.e. integral of hist willbe 1\n",
    "plt.plot((0.5*b1), lnP1, \"c\", linewidth = 0, marker = \"o\" )\n",
    "\n",
    "plt.xlabel('T (ns)')\n",
    "plt.ylabel('ln(P(T))')\n",
    "#plt.xlim(0, 380)\n",
    "#plt.ylim(0, 0.085)\n",
    "plt.legend([\"S1\"])\n",
    "\n",
    "fig2 = plt.figure(2)\n",
    "\n",
    "plt.plot((0.5*b2), lnP2, \"m\", linewidth = 0, marker = \"*\" )\n",
    "\n",
    "plt.xlabel('T (ns)')\n",
    "plt.ylabel('ln(P(T))')\n",
    "#plt.xlim(0, 380)\n",
    "#plt.ylim(0, 0.085)\n",
    "plt.legend([\"S2\"])\n",
    "\n",
    "fig3 = plt.figure(3)\n",
    "\n",
    "plt.plot((0.5*b3), lnP3, \"y\", linewidth = 0, marker = \">\" )\n",
    "\n",
    "plt.xlabel('T (ns)')\n",
    "plt.ylabel('ln(P(T))')\n",
    "plt.legend([\"S3\"])\n",
    "#ax.set_yscale(\"log\")\n",
    "\n",
    "\n",
    "\n",
    "#fig4 = plt.figure(4)\n",
    "#plt.plot((0.5*b4), n4, \"k\", linewidth = 2.0, marker = \"s\" )\n",
    "#plt.xlabel('T (ns)')\n",
    "#plt.ylabel('P(T)')\n",
    "#plt.xlim(0, 380)\n",
    "#plt.ylim(0, 0.065)\n",
    "#plt.legend([\"S4\"])\n",
    "\n",
    "plt.show()\n",
    "#save all figures to 1 pdf\n",
    "#pp = PdfPages(\"CsA_310_LnP_10.pdf\")\n",
    "#pp.savefig(fig1, dpi = 300, transparent = True)\n",
    "#pp.savefig(fig2, dpi = 300, transparent = True)\n",
    "#pp.savefig(fig3, dpi = 300, transparent = True)\n",
    "#pp.savefig(fig4, dpi = 300, transparent = True)\n",
    "#pp.close()\n"
   ]
  },
  {
   "cell_type": "code",
   "execution_count": 14,
   "metadata": {
    "collapsed": true
   },
   "outputs": [],
   "source": [
    "import plotly.plotly as py\n",
    "import plotly.graph_objs as go\n",
    "\n",
    "# Scientific libraries\n",
    "from numpy import arange,array,ones\n",
    "from scipy import stats"
   ]
  },
  {
   "cell_type": "code",
   "execution_count": 15,
   "metadata": {
    "collapsed": true
   },
   "outputs": [],
   "source": [
    "#calculate best fit line\n",
    "\n",
    "xi = 0.5*b1\n",
    "y = lnP1\n",
    "\n",
    "slope, intercept, r_value, p_value, std_err = stats.linregress(xi,y)\n",
    "line = slope*xi+intercept\n",
    "\n",
    "xi2 = 0.5*b2\n",
    "y2 = lnP2\n",
    "\n",
    "slope2, intercept2, r_value2, p_value2, std_err2 = stats.linregress(xi2,y2)\n",
    "line2 = slope2*xi2+intercept2\n",
    "\n",
    "xi3 = 0.5*b3\n",
    "y3 = lnP3\n",
    "\n",
    "slope3, intercept3, r_value3, p_value3, std_err3 = stats.linregress(xi3,y3)\n",
    "line3 = slope3*xi3+intercept3\n",
    "\n",
    "#xi4 = 0.5*b4\n",
    "#y4 = lnP4\n",
    "\n",
    "#slope4, intercept4, r_value4, p_value4, std_err4 = stats.linregress(xi4,y4)\n",
    "#line4 = slope4*xi4+intercept4\n",
    "\n",
    "slope_list = [slope, slope2,slope3]\n",
    "#slope_list = [slope, slope2,slope3, slope4]\n",
    "\n",
    "intercept_list = [intercept, intercept2, intercept3]\n",
    "#intercept_list = [intercept, intercept2, intercept3, intercept4]\n",
    "error_list = [std_err, std_err2, std_err3]\n",
    "#error_list = [std_err, std_err2, std_err3, std_err4]"
   ]
  },
  {
   "cell_type": "code",
   "execution_count": null,
   "metadata": {
    "collapsed": true
   },
   "outputs": [],
   "source": [
    "np.savetxt(\"510_dcsa_std_err.txt\", error_list)"
   ]
  },
  {
   "cell_type": "code",
   "execution_count": null,
   "metadata": {},
   "outputs": [],
   "source": [
    "err_num = [1,2,3]\n",
    "plt.scatter(error_list, err_num)"
   ]
  },
  {
   "cell_type": "code",
   "execution_count": null,
   "metadata": {
    "collapsed": true
   },
   "outputs": [],
   "source": [
    "#np.savetxt(\"450_dcsa_slope.txt\", slope_list)\n",
    "#np.savetxt(\"450_dcsa_intercept.txt\", intercept_list)\n"
   ]
  },
  {
   "cell_type": "code",
   "execution_count": null,
   "metadata": {
    "collapsed": true
   },
   "outputs": [],
   "source": []
  },
  {
   "cell_type": "code",
   "execution_count": 20,
   "metadata": {},
   "outputs": [
    {
     "data": {
      "image/png": "[encoded data removed]",
      "text/plain": [
       "<matplotlib.figure.Figure at 0x1e3508d6550>"
      ]
     },
     "metadata": {},
     "output_type": "display_data"
    },
    {
     "data": {
      "image/png": "[encoded data removed]",
      "text/plain": [
       "<matplotlib.figure.Figure at 0x1e3505f2dd8>"
      ]
     },
     "metadata": {},
     "output_type": "display_data"
    },
    {
     "data": {
      "image/png": "[encoded data removed]",
      "text/plain": [
       "<matplotlib.figure.Figure at 0x1e350657ba8>"
      ]
     },
     "metadata": {},
     "output_type": "display_data"
    }
   ],
   "source": [
    "fig, ax = plt.subplots()\n",
    "\n",
    "fig1 = plt.figure(1)\n",
    "\n",
    "# the histogram of the data\n",
    "#normed = True, n is the counts normalized to form a probability density - n/len(x) dbin i.e. integral of hist willbe 1\n",
    "plt.plot(xi, lnP1, \"c\", linewidth = 0, marker = \"o\" )\n",
    "plt.plot(xi, line, \"k\")\n",
    "\n",
    "plt.xlabel('T (ns)')\n",
    "plt.ylabel('ln(P(T))')\n",
    "plt.legend([\"s1 data\", \"best fit line\"])\n",
    "\n",
    "fig2 = plt.figure(2)\n",
    "\n",
    "plt.plot(xi2, lnP2, \"m\", linewidth = 0, marker = \"*\" )\n",
    "plt.plot(xi2, line2, \"k\")\n",
    "\n",
    "plt.xlabel('T (ns)')\n",
    "plt.ylabel('ln(P(T))')\n",
    "plt.legend([\"s2 data\", \"best fit line\"])\n",
    "\n",
    "fig3 = plt.figure(3)\n",
    "\n",
    "plt.plot(xi3, lnP3, \"y\", linewidth = 0, marker = \">\" )\n",
    "plt.plot(xi3, line3, \"k\")\n",
    "\n",
    "plt.xlabel('T (ns)')\n",
    "plt.ylabel('ln(P(T))')\n",
    "plt.legend([\"s3 data\", \"best fit line\"])\n",
    "\n",
    "#fig4 = plt.figure(4)\n",
    "#plt.plot((0.5*b4), lnP4, \"m\", linewidth = 0, marker = \"s\" )\n",
    "#plt.plot(xi4, line4, \"k\")\n",
    "#plt.xlabel('T (ns)')\n",
    "#plt.ylabel('P(T)')\n",
    "#plt.legend([\"s4 data\", \"best fit line\"])\n",
    "\n",
    "plt.show()\n",
    "\n",
    "#save all figures to 1 pdf\n",
    "pp = PdfPages(\"CsA_310_LnP_fitline_10.pdf\")\n",
    "pp.savefig(fig1, dpi = 300, transparent = True)\n",
    "pp.savefig(fig2, dpi = 300, transparent = True)\n",
    "pp.savefig(fig3, dpi = 300, transparent = True)\n",
    "#pp.savefig(fig4, dpi = 300, transparent = True)\n",
    "pp.close()\n"
   ]
  },
  {
   "cell_type": "code",
   "execution_count": null,
   "metadata": {
    "collapsed": true
   },
   "outputs": [],
   "source": []
  }
 ],
 "metadata": {
  "anaconda-cloud": {},
  "kernelspec": {
   "display_name": "Python 3",
   "language": "python",
   "name": "python3"
  },
  "language_info": {
   "codemirror_mode": {
    "name": "ipython",
    "version": 3
   },
   "file_extension": ".py",
   "mimetype": "text/x-python",
   "name": "python",
   "nbconvert_exporter": "python",
   "pygments_lexer": "ipython3",
   "version": "3.6.1"
  }
 },
 "nbformat": 4,
 "nbformat_minor": 1
}
