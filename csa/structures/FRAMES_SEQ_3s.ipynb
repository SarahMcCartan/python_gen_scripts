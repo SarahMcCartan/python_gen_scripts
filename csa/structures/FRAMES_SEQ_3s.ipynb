{
 "cells": [
  {
   "cell_type": "markdown",
   "metadata": {},
   "source": [
    "# SCRIPT TO FIND  SEQUENCES OF FRAMES WHERE STATES LIVED FOR SOME TIME, FINDS SEQUENCES IN DATA AND ONLY SAVES THE START AND END OF THE SEQ."
   ]
  },
  {
   "cell_type": "code",
   "execution_count": 1,
   "metadata": {
    "collapsed": true
   },
   "outputs": [],
   "source": [
    "import numpy as np\n",
    "import matplotlib.pyplot as plt\n",
    "from scipy.stats import gaussian_kde\n",
    "from numpy import loadtxt\n",
    "from numpy import load\n",
    "import pandas as pd\n",
    "import operator\n"
   ]
  },
  {
   "cell_type": "code",
   "execution_count": 2,
   "metadata": {
    "collapsed": true
   },
   "outputs": [],
   "source": [
    "def group_consecutives(vals, step=1):\n",
    "    \"\"\"Return list of consecutive lists of numbers from vals (number list).\"\"\"\n",
    "    run = []\n",
    "    result = [run]\n",
    "    expect = None\n",
    "    for v in vals:\n",
    "        if (v == expect) or (expect is None):\n",
    "            run.append(v)\n",
    "        else:\n",
    "            run = [v]\n",
    "            result.append(run)\n",
    "        expect = v + step\n",
    "    return result"
   ]
  },
  {
   "cell_type": "code",
   "execution_count": 4,
   "metadata": {},
   "outputs": [],
   "source": [
    "data1 = np.loadtxt('R6_510_CSA_S1_frames.txt')\n",
    "data2 = np.loadtxt('R6_510_CSA_S2_frames.txt')\n",
    "data3 = np.loadtxt('R6_510_CSA_S3_frames.txt')\n",
    "#data4 = np.loadtxt('R15_310_CSA_S4_frames.txt')"
   ]
  },
  {
   "cell_type": "code",
   "execution_count": 5,
   "metadata": {
    "collapsed": true
   },
   "outputs": [],
   "source": [
    "x = data1[:,0]\n",
    "y = data2[:,0]\n",
    "z = data3[:,0]\n",
    "#a = data4[:,0]"
   ]
  },
  {
   "cell_type": "code",
   "execution_count": 6,
   "metadata": {},
   "outputs": [
    {
     "data": {
      "text/plain": [
       "177"
      ]
     },
     "execution_count": 6,
     "metadata": {},
     "output_type": "execute_result"
    }
   ],
   "source": [
    "len(x)"
   ]
  },
  {
   "cell_type": "code",
   "execution_count": 7,
   "metadata": {
    "collapsed": true
   },
   "outputs": [],
   "source": [
    "#old code\n",
    "#n = 30\n",
    "#iter = 0\n",
    "\n",
    "#for i in range(0,len(x)-1):\n",
    "#    if (x[i+1] -x[i]) ==1:\n",
    "#        df.iloc[i]['start'] = x[i]\n",
    "#        iter = iter +1\n",
    "        \n",
    "#        df.iloc[i]['end'] = x[i+1]\n",
    "\n",
    "            #keepGOING = True\n"
   ]
  },
  {
   "cell_type": "code",
   "execution_count": 8,
   "metadata": {
    "collapsed": true
   },
   "outputs": [],
   "source": [
    "#df=df.loc[~(df==0).all(axis=1)] #drop rows with all  zeros in dataframe\n"
   ]
  },
  {
   "cell_type": "code",
   "execution_count": 9,
   "metadata": {
    "collapsed": true
   },
   "outputs": [],
   "source": [
    "f = group_consecutives(x,step = 1) #run defined function"
   ]
  },
  {
   "cell_type": "code",
   "execution_count": 14,
   "metadata": {
    "collapsed": true
   },
   "outputs": [],
   "source": [
    "s = list()\n",
    "e = list()\n",
    "\n",
    "for i in range(0,len(f)-1):\n",
    "    if len(f[i]) > 1:\n",
    "        s.append(f[i][0]) #get the first\n",
    "        e.append(f[i][-1]) # get the last number in the seq\n",
    "        "
   ]
  },
  {
   "cell_type": "code",
   "execution_count": 15,
   "metadata": {},
   "outputs": [
    {
     "data": {
      "text/plain": [
       "28"
      ]
     },
     "execution_count": 15,
     "metadata": {},
     "output_type": "execute_result"
    }
   ],
   "source": [
    "len(e)"
   ]
  },
  {
   "cell_type": "code",
   "execution_count": 16,
   "metadata": {
    "collapsed": true
   },
   "outputs": [],
   "source": [
    "cols= ['start', 'end']\n",
    "\n",
    "fdf = pd.DataFrame(index = range(0,len(s)), columns = cols) #create empyty dataframe"
   ]
  },
  {
   "cell_type": "code",
   "execution_count": 17,
   "metadata": {
    "collapsed": true
   },
   "outputs": [],
   "source": [
    "fdf['start'] = s #replace all values in this col with the list s, must be same len\n",
    "fdf['end']  = e"
   ]
  },
  {
   "cell_type": "code",
   "execution_count": null,
   "metadata": {
    "collapsed": true
   },
   "outputs": [],
   "source": []
  },
  {
   "cell_type": "code",
   "execution_count": 18,
   "metadata": {
    "collapsed": true
   },
   "outputs": [],
   "source": [
    "fdf['len'] = fdf['end'] - fdf['start']"
   ]
  },
  {
   "cell_type": "markdown",
   "metadata": {},
   "source": [
    "## next state"
   ]
  },
  {
   "cell_type": "code",
   "execution_count": 19,
   "metadata": {
    "collapsed": true
   },
   "outputs": [],
   "source": [
    "f2 = group_consecutives(y,step = 1) #run defined function"
   ]
  },
  {
   "cell_type": "code",
   "execution_count": 25,
   "metadata": {
    "collapsed": true
   },
   "outputs": [],
   "source": [
    "s2 = list()\n",
    "e2 = list()\n",
    "\n",
    "for j in range(0,len(f2)-1):\n",
    "    if len(f2[j]) > 2:\n",
    "        s2.append(f2[j][0]) #get the first\n",
    "        e2.append(f2[j][-1]) # get the last number in the seq\n",
    "        "
   ]
  },
  {
   "cell_type": "code",
   "execution_count": 26,
   "metadata": {},
   "outputs": [
    {
     "data": {
      "text/plain": [
       "17"
      ]
     },
     "execution_count": 26,
     "metadata": {},
     "output_type": "execute_result"
    }
   ],
   "source": [
    "len(s2)"
   ]
  },
  {
   "cell_type": "code",
   "execution_count": 27,
   "metadata": {
    "collapsed": true
   },
   "outputs": [],
   "source": [
    "fdf2 = pd.DataFrame(index = range(0,len(s2)), columns = cols) #create empyty dataframe"
   ]
  },
  {
   "cell_type": "code",
   "execution_count": null,
   "metadata": {},
   "outputs": [],
   "source": []
  },
  {
   "cell_type": "code",
   "execution_count": 28,
   "metadata": {
    "collapsed": true
   },
   "outputs": [],
   "source": [
    "fdf2['start'] = s2 #replace all values in this col with the list s, must be same len\n",
    "fdf2['end']  = e2"
   ]
  },
  {
   "cell_type": "code",
   "execution_count": 29,
   "metadata": {
    "collapsed": true
   },
   "outputs": [],
   "source": [
    "fdf2['len'] = fdf2['end'] - fdf2['start']"
   ]
  },
  {
   "cell_type": "markdown",
   "metadata": {
    "collapsed": true
   },
   "source": [
    "## next state"
   ]
  },
  {
   "cell_type": "code",
   "execution_count": 30,
   "metadata": {
    "collapsed": true
   },
   "outputs": [],
   "source": [
    "f3 = group_consecutives(z,step = 1) #run defined function"
   ]
  },
  {
   "cell_type": "code",
   "execution_count": 35,
   "metadata": {
    "collapsed": true
   },
   "outputs": [],
   "source": [
    "s3 = list()\n",
    "e3 = list()\n",
    "\n",
    "for k in range(0,len(f3)-1):\n",
    "    if len(f3[k]) > 2:\n",
    "        s3.append(f3[k][0]) #get the first\n",
    "        e3.append(f3[k][-1]) # get the last number in the seq\n",
    "        "
   ]
  },
  {
   "cell_type": "code",
   "execution_count": 36,
   "metadata": {},
   "outputs": [
    {
     "data": {
      "text/plain": [
       "22"
      ]
     },
     "execution_count": 36,
     "metadata": {},
     "output_type": "execute_result"
    }
   ],
   "source": [
    "len(s3)"
   ]
  },
  {
   "cell_type": "code",
   "execution_count": 37,
   "metadata": {
    "collapsed": true
   },
   "outputs": [],
   "source": [
    "fdf3 = pd.DataFrame(index = range(0,len(s3)), columns = cols) #create empyty dataframe"
   ]
  },
  {
   "cell_type": "code",
   "execution_count": 38,
   "metadata": {
    "collapsed": true
   },
   "outputs": [],
   "source": [
    "fdf3['start'] = s3 #replace all values in this col with the list s, must be same len\n",
    "fdf3['end']  = e3"
   ]
  },
  {
   "cell_type": "code",
   "execution_count": 39,
   "metadata": {
    "collapsed": true
   },
   "outputs": [],
   "source": [
    "fdf3['len'] = fdf3['end'] - fdf3['start']"
   ]
  },
  {
   "cell_type": "code",
   "execution_count": 40,
   "metadata": {
    "collapsed": true
   },
   "outputs": [],
   "source": [
    "w=pd.ExcelWriter('dcsa_510_rep_struc2.xlsx')\n",
    "fdf.to_excel(w,'S1')\n",
    "fdf2.to_excel(w,'S2')\n",
    "fdf3.to_excel(w,'S3')\n",
    "w.save()"
   ]
  },
  {
   "cell_type": "code",
   "execution_count": null,
   "metadata": {
    "collapsed": true
   },
   "outputs": [],
   "source": []
  }
 ],
 "metadata": {
  "kernelspec": {
   "display_name": "Python 3",
   "language": "python",
   "name": "python3"
  },
  "language_info": {
   "codemirror_mode": {
    "name": "ipython",
    "version": 3
   },
   "file_extension": ".py",
   "mimetype": "text/x-python",
   "name": "python",
   "nbconvert_exporter": "python",
   "pygments_lexer": "ipython3",
   "version": "3.6.1"
  }
 },
 "nbformat": 4,
 "nbformat_minor": 2
}
